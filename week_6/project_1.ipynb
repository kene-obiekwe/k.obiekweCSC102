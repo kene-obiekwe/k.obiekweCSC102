{
 "cells": [
  {
   "cell_type": "code",
   "execution_count": 13,
   "id": "698287cf",
   "metadata": {
    "scrolled": true
   },
   "outputs": [
    {
     "name": "stdout",
     "output_type": "stream",
     "text": [
      "Program to verify employees of jt-ventures\n",
      "What is your Surname?: adewumi\n",
      "What is your First name?: Ayomide\n",
      "What is your department?: Accounting\n",
      "This user does not exist\n"
     ]
    }
   ],
   "source": [
    "import pandas as pd\n",
    "data = pd.read_csv(\"jt-ventures.csv\")\n",
    "data\n",
    "print(\"Program to verify employees of jt-ventures\")\n",
    "emp_name1 = input(\"What is your Surname?: \")\n",
    "emp_name2 = input(\"What is your First name?: \")\n",
    "emp_dep = input(\"What is your department?: \")\n",
    "\n",
    "\n",
    "def employee(emp_name1 ,emp_dep):\n",
    "    if ((data[\"SURNAME\"] == emp_name1) & (data[\"DEPARTMENT\"] == emp_dep)).any():\n",
    "        print(f\"Welcome {emp_name1, emp_name2} to jt-ventures\")\n",
    "    else:\n",
    "        print(\"This user does not exist\")\n",
    "    \n",
    "\n",
    "\n",
    "\n",
    "employee(emp_name1, emp_dep)\n",
    "    \n",
    "    "
   ]
  },
  {
   "cell_type": "code",
   "execution_count": null,
   "id": "4066a79e",
   "metadata": {},
   "outputs": [],
   "source": []
  }
 ],
 "metadata": {
  "kernelspec": {
   "display_name": "Python 3 (ipykernel)",
   "language": "python",
   "name": "python3"
  },
  "language_info": {
   "codemirror_mode": {
    "name": "ipython",
    "version": 3
   },
   "file_extension": ".py",
   "mimetype": "text/x-python",
   "name": "python",
   "nbconvert_exporter": "python",
   "pygments_lexer": "ipython3",
   "version": "3.10.9"
  }
 },
 "nbformat": 4,
 "nbformat_minor": 5
}
