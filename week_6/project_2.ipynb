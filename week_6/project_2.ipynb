{
 "cells": [
  {
   "cell_type": "code",
   "execution_count": 2,
   "id": "d2230b46",
   "metadata": {},
   "outputs": [
    {
     "name": "stdout",
     "output_type": "stream",
     "text": [
      "Program for Yega Services Delivery\n",
      "Are you located in: 1. Ibeju-Lekki community OR 2. EPE?: \n",
      "Choose your location: 2\n",
      "What is the weight of your package(KILOGRAMS)?: 15\n",
      "Your delivery costs N5000\n"
     ]
    }
   ],
   "source": [
    "def yega():\n",
    "    print(\"Are you located in: 1. Ibeju-Lekki community OR 2. EPE?: \")\n",
    "    decision = int(input(\"Choose your location: \"))\n",
    "    if decision == 1:\n",
    "        weight =  int(input(\"What is the weight of your package(KILOGRAMS)?: \"))\n",
    "        if weight >= 10:\n",
    "            print(\"Your delivery costs N2000\")\n",
    "        elif weight < 10:\n",
    "            print(\"Your delivery costs N1500\")\n",
    "        else:\n",
    "            print(\"Invalid Input\")\n",
    "    elif decision == 2:\n",
    "        weight2 =  int(input(\"What is the weight of your package(KILOGRAMS)?: \"))\n",
    "        if weight2 >= 10:\n",
    "            print(\"Your delivery costs N5000\")\n",
    "        elif weight2 < 10:\n",
    "            print(\"Your delivery costs N4000\")\n",
    "        else:\n",
    "            print(\"Invalid Input\")\n",
    "print(\"Program for Yega Services Delivery\")\n",
    "yega()\n",
    "        "
   ]
  },
  {
   "cell_type": "code",
   "execution_count": null,
   "id": "c62c2104",
   "metadata": {},
   "outputs": [],
   "source": []
  }
 ],
 "metadata": {
  "kernelspec": {
   "display_name": "Python 3 (ipykernel)",
   "language": "python",
   "name": "python3"
  },
  "language_info": {
   "codemirror_mode": {
    "name": "ipython",
    "version": 3
   },
   "file_extension": ".py",
   "mimetype": "text/x-python",
   "name": "python",
   "nbconvert_exporter": "python",
   "pygments_lexer": "ipython3",
   "version": "3.10.9"
  }
 },
 "nbformat": 4,
 "nbformat_minor": 5
}
