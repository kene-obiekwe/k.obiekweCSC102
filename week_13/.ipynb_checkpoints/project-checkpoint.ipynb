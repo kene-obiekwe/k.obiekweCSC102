{
 "cells": [
  {
   "cell_type": "markdown",
   "id": "782baf40",
   "metadata": {},
   "source": [
    "# QUESTION 1"
   ]
  },
  {
   "cell_type": "code",
   "execution_count": 7,
   "id": "962fa32d",
   "metadata": {},
   "outputs": [
    {
     "name": "stdout",
     "output_type": "stream",
     "text": [
      "What is your name?: OBIEKWE KENE\n",
      "What is your matriculation number?: 22120613021\n",
      "What is your department?: COMPUTER SCIENCE\n",
      "What is your level?: 100\n",
      "Data saved to file.\n"
     ]
    },
    {
     "data": {
      "text/html": [
       "<div>\n",
       "<style scoped>\n",
       "    .dataframe tbody tr th:only-of-type {\n",
       "        vertical-align: middle;\n",
       "    }\n",
       "\n",
       "    .dataframe tbody tr th {\n",
       "        vertical-align: top;\n",
       "    }\n",
       "\n",
       "    .dataframe thead th {\n",
       "        text-align: right;\n",
       "    }\n",
       "</style>\n",
       "<table border=\"1\" class=\"dataframe\">\n",
       "  <thead>\n",
       "    <tr style=\"text-align: right;\">\n",
       "      <th></th>\n",
       "      <th>Unnamed: 0</th>\n",
       "      <th>Student Name</th>\n",
       "      <th>Matric. Number</th>\n",
       "      <th>Department</th>\n",
       "      <th>Level</th>\n",
       "    </tr>\n",
       "  </thead>\n",
       "  <tbody>\n",
       "    <tr>\n",
       "      <th>0</th>\n",
       "      <td>0</td>\n",
       "      <td>OBIEKWE KENE</td>\n",
       "      <td>22120613021</td>\n",
       "      <td>COMPUTER SCIENCE</td>\n",
       "      <td>100</td>\n",
       "    </tr>\n",
       "  </tbody>\n",
       "</table>\n",
       "</div>"
      ],
      "text/plain": [
       "   Unnamed: 0  Student Name  Matric. Number        Department  Level\n",
       "0           0  OBIEKWE KENE     22120613021  COMPUTER SCIENCE    100"
      ]
     },
     "execution_count": 7,
     "metadata": {},
     "output_type": "execute_result"
    }
   ],
   "source": [
    "import pandas as pd\n",
    "name = input(\"What is your name?: \")\n",
    "mat_no = input(\"What is your matriculation number?: \")\n",
    "dep = input(\"What is your department?: \")\n",
    "lvl = input(\"What is your level?: \")\n",
    "\n",
    "data = {'Student Name': [name],\n",
    "        'Matric. Number': [mat_no],\n",
    "        'Department': [dep],\n",
    "        'Level': [lvl]}\n",
    "df = pd.DataFrame(data)\n",
    "df.to_csv('PAU-SMIS.csv')\n",
    "print(\"Data saved to file.\")\n",
    "inp = pd.read_csv('PAU-SMIS.csv')\n",
    "inp"
   ]
  },
  {
   "cell_type": "markdown",
   "id": "ed29cb76",
   "metadata": {},
   "source": [
    "# QUESTION 2"
   ]
  },
  {
   "cell_type": "code",
   "execution_count": 13,
   "id": "10c896ef",
   "metadata": {},
   "outputs": [
    {
     "data": {
      "text/html": [
       "<div>\n",
       "<style scoped>\n",
       "    .dataframe tbody tr th:only-of-type {\n",
       "        vertical-align: middle;\n",
       "    }\n",
       "\n",
       "    .dataframe tbody tr th {\n",
       "        vertical-align: top;\n",
       "    }\n",
       "\n",
       "    .dataframe thead th {\n",
       "        text-align: right;\n",
       "    }\n",
       "</style>\n",
       "<table border=\"1\" class=\"dataframe\">\n",
       "  <thead>\n",
       "    <tr style=\"text-align: right;\">\n",
       "      <th></th>\n",
       "      <th>Company</th>\n",
       "      <th>Founded</th>\n",
       "      <th>Assests</th>\n",
       "      <th>Liabilities</th>\n",
       "      <th>Percentage Leverages (%)</th>\n",
       "    </tr>\n",
       "  </thead>\n",
       "  <tbody>\n",
       "    <tr>\n",
       "      <th>0</th>\n",
       "      <td>Enron</td>\n",
       "      <td>1987</td>\n",
       "      <td>1000000</td>\n",
       "      <td>200000</td>\n",
       "      <td>80.000000</td>\n",
       "    </tr>\n",
       "    <tr>\n",
       "      <th>1</th>\n",
       "      <td>Anderson</td>\n",
       "      <td>1936</td>\n",
       "      <td>1500000</td>\n",
       "      <td>500000</td>\n",
       "      <td>66.666667</td>\n",
       "    </tr>\n",
       "    <tr>\n",
       "      <th>2</th>\n",
       "      <td>GK Jones</td>\n",
       "      <td>2001</td>\n",
       "      <td>3000000</td>\n",
       "      <td>1500000</td>\n",
       "      <td>50.000000</td>\n",
       "    </tr>\n",
       "    <tr>\n",
       "      <th>3</th>\n",
       "      <td>Mica</td>\n",
       "      <td>1996</td>\n",
       "      <td>250000</td>\n",
       "      <td>50000</td>\n",
       "      <td>80.000000</td>\n",
       "    </tr>\n",
       "    <tr>\n",
       "      <th>4</th>\n",
       "      <td>Dune</td>\n",
       "      <td>2008</td>\n",
       "      <td>800000</td>\n",
       "      <td>300000</td>\n",
       "      <td>62.500000</td>\n",
       "    </tr>\n",
       "  </tbody>\n",
       "</table>\n",
       "</div>"
      ],
      "text/plain": [
       "    Company Founded  Assests  Liabilities  Percentage Leverages (%)\n",
       "0     Enron    1987  1000000       200000                 80.000000\n",
       "1  Anderson    1936  1500000       500000                 66.666667\n",
       "2  GK Jones    2001  3000000      1500000                 50.000000\n",
       "3      Mica    1996   250000        50000                 80.000000\n",
       "4      Dune    2008   800000       300000                 62.500000"
      ]
     },
     "execution_count": 13,
     "metadata": {},
     "output_type": "execute_result"
    }
   ],
   "source": [
    "import pandas as pd\n",
    "\n",
    "assets = [1000000, 1500000, 3000000, 250000, 800000]\n",
    "liabilities = [200000, 500000, 1500000, 50000, 300000]\n",
    "per_leverage_list = []\n",
    "\n",
    "for i in range(5):\n",
    "    per_leverage = (assets[i] - liabilities[i]) / (assets[i]) * 100\n",
    "    per_leverage = float(per_leverage)\n",
    "    per_leverage_list.append(per_leverage)\n",
    "    \n",
    "df =   pd.DataFrame({\"Company\" : [\"Enron\", \"Anderson\", \"GK Jones\", \"Mica\", \"Dune\"],\n",
    "                     \"Founded\": [\"1987\", \"1936\", \"2001\", \"1996\", \"2008\"],\n",
    "                     \"Assests\": [1000000, 1500000, 3000000, 250000, 800000],\n",
    "                     \"Liabilities\": [200000, 500000, 1500000, 50000, 300000],\n",
    "                     \"Percentage Leverages (%)\": [x for x in per_leverage_list]\n",
    "                    })\n",
    "df.to_csv(\"Company data.csv\")\n",
    "df"
   ]
  },
  {
   "cell_type": "code",
   "execution_count": null,
   "id": "181422bb",
   "metadata": {},
   "outputs": [],
   "source": []
  }
 ],
 "metadata": {
  "kernelspec": {
   "display_name": "Python 3 (ipykernel)",
   "language": "python",
   "name": "python3"
  },
  "language_info": {
   "codemirror_mode": {
    "name": "ipython",
    "version": 3
   },
   "file_extension": ".py",
   "mimetype": "text/x-python",
   "name": "python",
   "nbconvert_exporter": "python",
   "pygments_lexer": "ipython3",
   "version": "3.10.9"
  }
 },
 "nbformat": 4,
 "nbformat_minor": 5
}
