{
 "cells": [
  {
   "cell_type": "markdown",
   "metadata": {},
   "source": [
    "# CONNECTING PYTHON WITH POSTGRES DATABASE "
   ]
  },
  {
   "cell_type": "markdown",
   "metadata": {},
   "source": [
    "### 1. CREATE A DATABSE student_profile"
   ]
  },
  {
   "cell_type": "code",
   "execution_count": 2,
   "metadata": {},
   "outputs": [
    {
     "ename": "DuplicateDatabase",
     "evalue": "database \"student_profile\" already exists\n",
     "output_type": "error",
     "traceback": [
      "\u001b[1;31m---------------------------------------------------------------------------\u001b[0m",
      "\u001b[1;31mDuplicateDatabase\u001b[0m                         Traceback (most recent call last)",
      "\u001b[1;32m<ipython-input-2-7c07f1c56cf3>\u001b[0m in \u001b[0;36m<module>\u001b[1;34m\u001b[0m\n\u001b[0;32m     13\u001b[0m \u001b[0mconn\u001b[0m\u001b[1;33m.\u001b[0m\u001b[0mautocommit\u001b[0m \u001b[1;33m=\u001b[0m \u001b[1;32mTrue\u001b[0m\u001b[1;33m\u001b[0m\u001b[1;33m\u001b[0m\u001b[0m\n\u001b[0;32m     14\u001b[0m \u001b[0mcursor\u001b[0m \u001b[1;33m=\u001b[0m \u001b[0mconn\u001b[0m\u001b[1;33m.\u001b[0m\u001b[0mcursor\u001b[0m\u001b[1;33m(\u001b[0m\u001b[1;33m)\u001b[0m\u001b[1;33m\u001b[0m\u001b[1;33m\u001b[0m\u001b[0m\n\u001b[1;32m---> 15\u001b[1;33m \u001b[0mcursor\u001b[0m\u001b[1;33m.\u001b[0m\u001b[0mexecute\u001b[0m\u001b[1;33m(\u001b[0m\u001b[1;34mf\"CREATE DATABASE {new_db_name};\"\u001b[0m\u001b[1;33m)\u001b[0m\u001b[1;33m\u001b[0m\u001b[1;33m\u001b[0m\u001b[0m\n\u001b[0m\u001b[0;32m     16\u001b[0m \u001b[1;33m\u001b[0m\u001b[0m\n\u001b[0;32m     17\u001b[0m \u001b[0mcursor\u001b[0m\u001b[1;33m.\u001b[0m\u001b[0mclose\u001b[0m\u001b[1;33m(\u001b[0m\u001b[1;33m)\u001b[0m\u001b[1;33m\u001b[0m\u001b[1;33m\u001b[0m\u001b[0m\n",
      "\u001b[1;31mDuplicateDatabase\u001b[0m: database \"student_profile\" already exists\n"
     ]
    }
   ],
   "source": [
    "import psycopg2\n",
    "\n",
    "# Establish a connection to the PostgreSQL server\n",
    "conn = psycopg2.connect(\n",
    "    host=\"localhost\",\n",
    "    port=\"5432\",\n",
    "    user=\"postgres\",\n",
    "    password=\"csc101\"\n",
    ")\n",
    "\n",
    "# Create a new database\n",
    "new_db_name = \"student_profile\"\n",
    "conn.autocommit = True\n",
    "cursor = conn.cursor()\n",
    "cursor.execute(f\"CREATE DATABASE {new_db_name};\")\n",
    "\n",
    "cursor.close()\n",
    "\n",
    "\n",
    "# Close the connection\n",
    "conn.close()"
   ]
  },
  {
   "cell_type": "markdown",
   "metadata": {},
   "source": [
    "### 2. CREATE A TABLE student_info"
   ]
  },
  {
   "cell_type": "code",
   "execution_count": 3,
   "metadata": {},
   "outputs": [],
   "source": [
    "# Establish a connection to the PostgreSQL server\n",
    "conn = psycopg2.connect(\n",
    "    host=\"localhost\",\n",
    "    port=\"5432\",\n",
    "    database=\"student_profile\",\n",
    "    user=\"postgres\",\n",
    "    password=\"csc101\"\n",
    ")\n",
    "# Create a cursor object\n",
    "cursor = conn.cursor()\n",
    "\n",
    "# Define the CREATE TABLE statement\n",
    "create_table_query = '''\n",
    "    CREATE TABLE student_info (\n",
    "        name varchar,\n",
    "        email varchar,\n",
    "        mat_no varchar  )\n",
    "'''\n",
    "\n",
    "# Execute the CREATE TABLE statement\n",
    "cursor.execute(create_table_query)\n",
    "\n",
    "\n",
    "# Commit the changes\n",
    "conn.commit()\n",
    "\n",
    "# Close the cursor and connection\n",
    "cursor.close()\n",
    "conn.close()"
   ]
  },
  {
   "cell_type": "markdown",
   "metadata": {},
   "source": [
    "### 3. INSERT INTO TABLE student_info"
   ]
  },
  {
   "cell_type": "code",
   "execution_count": 4,
   "metadata": {},
   "outputs": [],
   "source": [
    "import psycopg2\n",
    "\n",
    "# Establish a connection to the PostgreSQL server\n",
    "conn = psycopg2.connect(\n",
    "    host=\"localhost\",\n",
    "    port=\"5432\",\n",
    "    database=\"student_profile\",\n",
    "    user=\"postgres\",\n",
    "    password=\"csc101\"\n",
    ")\n",
    "\n",
    "# Create a cursor object\n",
    "cursor = conn.cursor()\n",
    "\n",
    "# Define the INSERT statement\n",
    "insert_query = '''\n",
    "    INSERT INTO student_info (name, email, mat_no)\n",
    "    VALUES (%s, %s, %s)\n",
    "'''\n",
    "\n",
    "# Define the values to be inserted\n",
    "values = ('Ade Jones', 'ajones@pau.edu.ng', '121234222')\n",
    "\n",
    "# Execute the INSERT statement\n",
    "cursor.execute(insert_query, values)\n",
    "\n",
    "# Commit the changes\n",
    "conn.commit()\n",
    "\n",
    "# Close the cursor and connection\n",
    "cursor.close()\n",
    "conn.close()"
   ]
  },
  {
   "cell_type": "markdown",
   "metadata": {},
   "source": [
    "### 4. SELECT ALL FROM student_info"
   ]
  },
  {
   "cell_type": "code",
   "execution_count": 5,
   "metadata": {},
   "outputs": [
    {
     "name": "stdout",
     "output_type": "stream",
     "text": [
      "Ade Jones | ajones@pau.edu.ng | 121234222\n"
     ]
    }
   ],
   "source": [
    "import psycopg2\n",
    "\n",
    "# Establish a connection to the PostgreSQL server\n",
    "conn = psycopg2.connect(\n",
    "    host=\"localhost\",\n",
    "    port=\"5432\",\n",
    "    database=\"student_profile\",\n",
    "    user=\"postgres\",\n",
    "    password=\"csc101\"\n",
    ")\n",
    "\n",
    "# Create a cursor object\n",
    "cursor = conn.cursor()\n",
    "\n",
    "# Define the SELECT statement\n",
    "select_query = \"SELECT * FROM student_info;\"\n",
    "\n",
    "# Execute the SELECT statement\n",
    "cursor.execute(select_query)\n",
    "\n",
    "# Fetch all the rows from the result set\n",
    "rows = cursor.fetchall()\n",
    "\n",
    "# Process the fetched rows\n",
    "for row in rows:\n",
    "    # Access individual columns using index or column names\n",
    "    column1_value = row[0]\n",
    "    column2_value = row[1]\n",
    "    column3_value = row[2]\n",
    "    \n",
    "    print(f\"{column1_value} | {column2_value} | {column3_value}\")\n",
    "\n",
    "# Close the cursor and connection\n",
    "cursor.close()\n",
    "conn.close()\n"
   ]
  },
  {
   "cell_type": "markdown",
   "metadata": {},
   "source": [
    "### 5. DELETE FROM student_info"
   ]
  },
  {
   "cell_type": "code",
   "execution_count": 6,
   "metadata": {},
   "outputs": [],
   "source": [
    "import psycopg2\n",
    "\n",
    "# Establish a connection to the PostgreSQL server\n",
    "conn = psycopg2.connect(\n",
    "    host=\"localhost\",\n",
    "    port=\"5432\",\n",
    "    database=\"student_profile\",\n",
    "    user=\"postgres\",\n",
    "    password=\"csc101\"\n",
    ")\n",
    "\n",
    "# Create a cursor object\n",
    "cursor = conn.cursor()\n",
    "\n",
    "# Define the DELETE statement\n",
    "delete_query = \"DELETE FROM student_info;\"\n",
    "\n",
    "# Execute the DELETE statement\n",
    "cursor.execute(delete_query)\n",
    "\n",
    "# Commit the changes\n",
    "conn.commit()\n",
    "\n",
    "# Close the cursor and connection\n",
    "cursor.close()\n",
    "conn.close()\n"
   ]
  },
  {
   "cell_type": "markdown",
   "metadata": {},
   "source": [
    "# CLASS PROJECT I\n",
    "\n",
    "\n"
   ]
  },
  {
   "cell_type": "markdown",
   "metadata": {},
   "source": [
    "<ul>\n",
    "    <li>Create a database called <b><i>mtn_nigeria</i></b></li>\n",
    "<li>Create a table called <b><i>customer_info</i></b></li>\n",
    "<li>Insert the following customer information into the database</li>\n",
    "</ul>\n"
   ]
  },
  {
   "cell_type": "code",
   "execution_count": 73,
   "metadata": {
    "scrolled": true
   },
   "outputs": [
    {
     "data": {
      "text/html": [
       "<div>\n",
       "<style scoped>\n",
       "    .dataframe tbody tr th:only-of-type {\n",
       "        vertical-align: middle;\n",
       "    }\n",
       "\n",
       "    .dataframe tbody tr th {\n",
       "        vertical-align: top;\n",
       "    }\n",
       "\n",
       "    .dataframe thead th {\n",
       "        text-align: right;\n",
       "    }\n",
       "</style>\n",
       "<table border=\"1\" class=\"dataframe\">\n",
       "  <thead>\n",
       "    <tr style=\"text-align: right;\">\n",
       "      <th></th>\n",
       "      <th>Name</th>\n",
       "      <th>Email</th>\n",
       "      <th>State of Residence</th>\n",
       "      <th>Mobile</th>\n",
       "    </tr>\n",
       "  </thead>\n",
       "  <tbody>\n",
       "    <tr>\n",
       "      <th>0</th>\n",
       "      <td>Favor Okpara-Ngbo</td>\n",
       "      <td>fokpara-ngbo@mtn.com</td>\n",
       "      <td>Lagos</td>\n",
       "      <td>08038212938</td>\n",
       "    </tr>\n",
       "    <tr>\n",
       "      <th>1</th>\n",
       "      <td>Joshua Asekhauno</td>\n",
       "      <td>jasekhauno@mtn.com</td>\n",
       "      <td>Portharcourt</td>\n",
       "      <td>080374930210</td>\n",
       "    </tr>\n",
       "    <tr>\n",
       "      <th>2</th>\n",
       "      <td>Collins Odoh-Ifeanyi</td>\n",
       "      <td>codoh-ifeanyi@mtn.com</td>\n",
       "      <td>Abuja</td>\n",
       "      <td>08067392029</td>\n",
       "    </tr>\n",
       "    <tr>\n",
       "      <th>3</th>\n",
       "      <td>Chibundum Umeh</td>\n",
       "      <td>cumeh@mtn.com</td>\n",
       "      <td>Owerri</td>\n",
       "      <td>0803493712348</td>\n",
       "    </tr>\n",
       "    <tr>\n",
       "      <th>4</th>\n",
       "      <td>Clinto Okpara</td>\n",
       "      <td>cokpara@mtn.com</td>\n",
       "      <td>Kaduna</td>\n",
       "      <td>08068381138</td>\n",
       "    </tr>\n",
       "  </tbody>\n",
       "</table>\n",
       "</div>"
      ],
      "text/plain": [
       "                   Name                  Email State of Residence  \\\n",
       "0     Favor Okpara-Ngbo   fokpara-ngbo@mtn.com              Lagos   \n",
       "1      Joshua Asekhauno     jasekhauno@mtn.com       Portharcourt   \n",
       "2  Collins Odoh-Ifeanyi  codoh-ifeanyi@mtn.com              Abuja   \n",
       "3        Chibundum Umeh          cumeh@mtn.com             Owerri   \n",
       "4         Clinto Okpara        cokpara@mtn.com             Kaduna   \n",
       "\n",
       "          Mobile  \n",
       "0    08038212938  \n",
       "1   080374930210  \n",
       "2    08067392029  \n",
       "3  0803493712348  \n",
       "4    08068381138  "
      ]
     },
     "execution_count": 73,
     "metadata": {},
     "output_type": "execute_result"
    }
   ],
   "source": [
    "import pandas as pd\n",
    "\n",
    "customer_info = {\"Name\": [\"Favor Okpara-Ngbo\", \"Joshua Asekhauno\", \"Collins Odoh-Ifeanyi\", \"Chibundum Umeh\", \"Clinto Okpara\"], \n",
    "  \"Email\": [\"fokpara-ngbo@mtn.com\", \"jasekhauno@mtn.com\", \"codoh-ifeanyi@mtn.com\", \"cumeh@mtn.com\", \"cokpara@mtn.com\"], \n",
    "  \"State of Residence\": [\"Lagos\", \"Portharcourt\", \"Abuja\", \"Owerri\", \"Kaduna\"],\n",
    "   \"Mobile\": [\"08038212938\", \"080374930210\", \"08067392029\",\"0803493712348\", \"08068381138\"]}\n",
    "info = pd.DataFrame(customer_info)\n",
    "info"
   ]
  },
  {
   "cell_type": "markdown",
   "metadata": {},
   "source": [
    "# CREATING THE DATABASE"
   ]
  },
  {
   "cell_type": "code",
   "execution_count": 12,
   "metadata": {},
   "outputs": [
    {
     "ename": "DuplicateDatabase",
     "evalue": "database \"mtn_nigeria\" already exists\n",
     "output_type": "error",
     "traceback": [
      "\u001b[1;31m---------------------------------------------------------------------------\u001b[0m",
      "\u001b[1;31mDuplicateDatabase\u001b[0m                         Traceback (most recent call last)",
      "\u001b[1;32m<ipython-input-12-490951d594e1>\u001b[0m in \u001b[0;36m<module>\u001b[1;34m\u001b[0m\n\u001b[0;32m     10\u001b[0m \u001b[0mcursor\u001b[0m \u001b[1;33m=\u001b[0m \u001b[0mconn\u001b[0m\u001b[1;33m.\u001b[0m\u001b[0mcursor\u001b[0m\u001b[1;33m(\u001b[0m\u001b[1;33m)\u001b[0m\u001b[1;33m\u001b[0m\u001b[1;33m\u001b[0m\u001b[0m\n\u001b[0;32m     11\u001b[0m \u001b[0mnew_db\u001b[0m \u001b[1;33m=\u001b[0m \u001b[1;34m\"mtn_nigeria\"\u001b[0m\u001b[1;33m\u001b[0m\u001b[1;33m\u001b[0m\u001b[0m\n\u001b[1;32m---> 12\u001b[1;33m \u001b[0mcursor\u001b[0m\u001b[1;33m.\u001b[0m\u001b[0mexecute\u001b[0m\u001b[1;33m(\u001b[0m\u001b[1;34mf\"CREATE DATABASE {new_db};\"\u001b[0m\u001b[1;33m)\u001b[0m\u001b[1;33m\u001b[0m\u001b[1;33m\u001b[0m\u001b[0m\n\u001b[0m\u001b[0;32m     13\u001b[0m \u001b[1;33m\u001b[0m\u001b[0m\n\u001b[0;32m     14\u001b[0m new_table = '''\n",
      "\u001b[1;31mDuplicateDatabase\u001b[0m: database \"mtn_nigeria\" already exists\n"
     ]
    }
   ],
   "source": [
    "import psycopg2\n",
    "conn = psycopg2.connect(\n",
    "    host=\"localhost\",\n",
    "    port=\"5432\",\n",
    "    user=\"postgres\",\n",
    "    password=\"csc101\"\n",
    ")\n",
    "conn.autocommit = True\n",
    "cursor = conn.cursor()\n",
    "new_db = \"mtn_nigeria\"\n",
    "cursor.execute(f\"CREATE DATABASE {new_db};\")\n",
    "\n",
    "cursor.close()\n",
    "conn.close()\n"
   ]
  },
  {
   "cell_type": "markdown",
   "metadata": {},
   "source": [
    "# CREATING THE TABLE"
   ]
  },
  {
   "cell_type": "code",
   "execution_count": 23,
   "metadata": {},
   "outputs": [],
   "source": [
    "import psycopg2\n",
    "conn = psycopg2.connect(\n",
    "    host=\"localhost\",\n",
    "    port=\"5432\",\n",
    "    database=\"mtn_nigeria\",\n",
    "    user=\"postgres\",\n",
    "    password=\"csc101\"\n",
    ")\n",
    "cursor = conn.cursor()\n",
    "new_table = '''\n",
    "    CREATE TABLE customer_info(\n",
    "    NAME TEXT NOT NULL,\n",
    "    EMAIL VARCHAR NOT NULL,\n",
    "    STATE_OF_RESIDENCE CHAR(50) NOT NULL,\n",
    "    MOBILE VARCHAR NOT NULL\n",
    "    );\n",
    "'''\n",
    "cursor.execute(new_table)\n",
    "conn.commit()      \n",
    "cursor.close()\n",
    "conn.close()"
   ]
  },
  {
   "cell_type": "markdown",
   "metadata": {},
   "source": [
    "# INSERTING VALUES"
   ]
  },
  {
   "cell_type": "code",
   "execution_count": 33,
   "metadata": {},
   "outputs": [],
   "source": [
    "import psycopg2\n",
    "conn = psycopg2.connect(\n",
    "    host=\"localhost\",\n",
    "    port=\"5432\",\n",
    "    database=\"mtn_nigeria\",\n",
    "    user=\"postgres\",\n",
    "    password=\"csc101\"\n",
    ")\n",
    "cursor = conn.cursor()\n",
    "insert = '''\n",
    "    INSERT INTO customer_info (NAME, EMAIL, STATE_OF_RESIDENCE, MOBILE)\n",
    "    VALUES (%s, %s, %s, %s);\n",
    "'''\n",
    "values = [\n",
    "    ('Favor Okpara-Ngbo', 'fokpara-ngbo@mtn.com', 'Lagos', 8038212938 ),\n",
    "    ('Joshua Asekhauno', 'jasekhauno@mtn.com', 'Portharcourt', 80374930210),\n",
    "    ('Collins Odoh-Ifeanyi', 'codoh-ifeanyi@mtn.com', 'Abuja', 8067392029),\n",
    "    ('Chibundum Umeh', 'cumeh@mtn.com', 'Owerri', 803493712348),\n",
    "    ('Clinto Okpara', 'cokpara@mtn.com', 'Kaduna', 8068381138 )\n",
    "]\n",
    "cursor.executemany(insert, values)\n",
    "conn.commit()\n",
    "cursor.close()\n",
    "conn.close()"
   ]
  },
  {
   "cell_type": "markdown",
   "metadata": {},
   "source": [
    "# Class Project II"
   ]
  },
  {
   "cell_type": "markdown",
   "metadata": {},
   "source": [
    "<ul>\n",
    "    <li>Create a database called <b><i>comp_sci_dpt</i></b></li>\n",
    "<li>Create a table called <b><i>csc102_class_list</i></b></li>\n",
    "<li>Download the class list .csv file from e-learning</li>\n",
    "<li>Insert the the class list into the database</li>\n",
    "<li>Dump the database and class list table</li>\n",
    "<li>Commit the python code and dumped database to your GitHub (Week 14)</li>\n",
    "</ul>\n"
   ]
  },
  {
   "cell_type": "markdown",
   "metadata": {},
   "source": [
    "# CREATING THE DATABASE"
   ]
  },
  {
   "cell_type": "code",
   "execution_count": 34,
   "metadata": {},
   "outputs": [],
   "source": [
    "import psycopg2\n",
    "conn = psycopg2.connect(\n",
    "    host=\"localhost\",\n",
    "    port=\"5432\",\n",
    "    user=\"postgres\",\n",
    "    password=\"csc101\"\n",
    ")\n",
    "conn.autocommit = True\n",
    "cursor = conn.cursor()\n",
    "new_db = \"comp_sci_dpt\"\n",
    "cursor.execute(f\"CREATE DATABASE {new_db};\")\n",
    "\n",
    "cursor.close()\n",
    "conn.close()\n"
   ]
  },
  {
   "cell_type": "code",
   "execution_count": 38,
   "metadata": {},
   "outputs": [
    {
     "data": {
      "text/html": [
       "<div>\n",
       "<style scoped>\n",
       "    .dataframe tbody tr th:only-of-type {\n",
       "        vertical-align: middle;\n",
       "    }\n",
       "\n",
       "    .dataframe tbody tr th {\n",
       "        vertical-align: top;\n",
       "    }\n",
       "\n",
       "    .dataframe thead th {\n",
       "        text-align: right;\n",
       "    }\n",
       "</style>\n",
       "<table border=\"1\" class=\"dataframe\">\n",
       "  <thead>\n",
       "    <tr style=\"text-align: right;\">\n",
       "      <th></th>\n",
       "      <th>S</th>\n",
       "      <th>FIRST NAME</th>\n",
       "      <th>MIDDLE NAME</th>\n",
       "      <th>SURNAME</th>\n",
       "    </tr>\n",
       "  </thead>\n",
       "  <tbody>\n",
       "    <tr>\n",
       "      <th>0</th>\n",
       "      <td>NaN</td>\n",
       "      <td>Oladimeji</td>\n",
       "      <td>Abdul-Matin</td>\n",
       "      <td>ABANIWONNDA</td>\n",
       "    </tr>\n",
       "    <tr>\n",
       "      <th>1</th>\n",
       "      <td>NaN</td>\n",
       "      <td>Odunayo</td>\n",
       "      <td>Abdul-lateef</td>\n",
       "      <td>AGUNBIADE</td>\n",
       "    </tr>\n",
       "    <tr>\n",
       "      <th>2</th>\n",
       "      <td>NaN</td>\n",
       "      <td>Uzoma</td>\n",
       "      <td>Tobenna</td>\n",
       "      <td>AGUWA</td>\n",
       "    </tr>\n",
       "    <tr>\n",
       "      <th>3</th>\n",
       "      <td>NaN</td>\n",
       "      <td>Omokafe</td>\n",
       "      <td>Nathan</td>\n",
       "      <td>AKPE</td>\n",
       "    </tr>\n",
       "    <tr>\n",
       "      <th>4</th>\n",
       "      <td>NaN</td>\n",
       "      <td>Luqmaan</td>\n",
       "      <td>Oyebanji</td>\n",
       "      <td>ALAGA</td>\n",
       "    </tr>\n",
       "    <tr>\n",
       "      <th>...</th>\n",
       "      <td>...</td>\n",
       "      <td>...</td>\n",
       "      <td>...</td>\n",
       "      <td>...</td>\n",
       "    </tr>\n",
       "    <tr>\n",
       "      <th>59</th>\n",
       "      <td>NaN</td>\n",
       "      <td>Leelabari</td>\n",
       "      <td>Samantha</td>\n",
       "      <td>TOMBARI-MENEGBO</td>\n",
       "    </tr>\n",
       "    <tr>\n",
       "      <th>60</th>\n",
       "      <td>NaN</td>\n",
       "      <td>Oghenetega</td>\n",
       "      <td>Stephen</td>\n",
       "      <td>UKPE</td>\n",
       "    </tr>\n",
       "    <tr>\n",
       "      <th>61</th>\n",
       "      <td>NaN</td>\n",
       "      <td>Mfonabasi</td>\n",
       "      <td>Carissa</td>\n",
       "      <td>UMOH</td>\n",
       "    </tr>\n",
       "    <tr>\n",
       "      <th>62</th>\n",
       "      <td>NaN</td>\n",
       "      <td>Precious</td>\n",
       "      <td>Chiamaka</td>\n",
       "      <td>UWADONE</td>\n",
       "    </tr>\n",
       "    <tr>\n",
       "      <th>63</th>\n",
       "      <td>NaN</td>\n",
       "      <td>Julius</td>\n",
       "      <td>Chukwudumebi</td>\n",
       "      <td>UWAJEH</td>\n",
       "    </tr>\n",
       "  </tbody>\n",
       "</table>\n",
       "<p>64 rows × 4 columns</p>\n",
       "</div>"
      ],
      "text/plain": [
       "     S  FIRST NAME   MIDDLE NAME          SURNAME\n",
       "0  NaN   Oladimeji   Abdul-Matin      ABANIWONNDA\n",
       "1  NaN     Odunayo  Abdul-lateef        AGUNBIADE\n",
       "2  NaN       Uzoma       Tobenna            AGUWA\n",
       "3  NaN     Omokafe        Nathan             AKPE\n",
       "4  NaN     Luqmaan      Oyebanji            ALAGA\n",
       "..  ..         ...           ...              ...\n",
       "59 NaN   Leelabari      Samantha  TOMBARI-MENEGBO\n",
       "60 NaN  Oghenetega       Stephen             UKPE\n",
       "61 NaN   Mfonabasi       Carissa             UMOH\n",
       "62 NaN    Precious      Chiamaka          UWADONE\n",
       "63 NaN      Julius  Chukwudumebi           UWAJEH\n",
       "\n",
       "[64 rows x 4 columns]"
      ]
     },
     "execution_count": 38,
     "metadata": {},
     "output_type": "execute_result"
    }
   ],
   "source": [
    "import pandas as pd\n",
    "df = pd.read_csv(\"csc102_class_list_II.csv\")\n",
    "df"
   ]
  },
  {
   "cell_type": "markdown",
   "metadata": {},
   "source": [
    "# CREATING THE TABLE"
   ]
  },
  {
   "cell_type": "code",
   "execution_count": 39,
   "metadata": {},
   "outputs": [],
   "source": [
    "import psycopg2\n",
    "conn = psycopg2.connect(\n",
    "    host=\"localhost\",\n",
    "    port=\"5432\",\n",
    "    database=\"comp_sci_dpt\",\n",
    "    user=\"postgres\",\n",
    "    password=\"csc101\"\n",
    ")\n",
    "cursor = conn.cursor()\n",
    "new_table = '''\n",
    "    CREATE TABLE csc102_class_list(\n",
    "    FIRST_NAME TEXT NOT NULL,\n",
    "    MIDDLE_NAME TEXT NOT NULL,\n",
    "    SURNAME TEXT NOT NULL\n",
    "    );\n",
    "'''\n",
    "cursor.execute(new_table)\n",
    "conn.commit()      \n",
    "cursor.close()\n",
    "conn.close()"
   ]
  },
  {
   "cell_type": "markdown",
   "metadata": {},
   "source": [
    "# INSERTING THE CLASS LIST"
   ]
  },
  {
   "cell_type": "code",
   "execution_count": 41,
   "metadata": {},
   "outputs": [
    {
     "ename": "TypeError",
     "evalue": "not all arguments converted during string formatting",
     "output_type": "error",
     "traceback": [
      "\u001b[1;31m---------------------------------------------------------------------------\u001b[0m",
      "\u001b[1;31mTypeError\u001b[0m                                 Traceback (most recent call last)",
      "\u001b[1;32m<ipython-input-41-e9fc9c4564a4>\u001b[0m in \u001b[0;36m<module>\u001b[1;34m\u001b[0m\n\u001b[0;32m     17\u001b[0m '''\n\u001b[0;32m     18\u001b[0m \u001b[0mvalues\u001b[0m \u001b[1;33m=\u001b[0m \u001b[1;33m[\u001b[0m\u001b[0mtuple\u001b[0m\u001b[1;33m(\u001b[0m\u001b[0mrow\u001b[0m\u001b[1;33m)\u001b[0m \u001b[1;32mfor\u001b[0m \u001b[0mrow\u001b[0m \u001b[1;32min\u001b[0m \u001b[0mdf\u001b[0m\u001b[1;33m.\u001b[0m\u001b[0mvalues\u001b[0m\u001b[1;33m]\u001b[0m\u001b[1;33m\u001b[0m\u001b[1;33m\u001b[0m\u001b[0m\n\u001b[1;32m---> 19\u001b[1;33m \u001b[0mcursor\u001b[0m\u001b[1;33m.\u001b[0m\u001b[0mexecutemany\u001b[0m\u001b[1;33m(\u001b[0m\u001b[0minsert\u001b[0m\u001b[1;33m,\u001b[0m \u001b[0mvalues\u001b[0m\u001b[1;33m)\u001b[0m\u001b[1;33m\u001b[0m\u001b[1;33m\u001b[0m\u001b[0m\n\u001b[0m\u001b[0;32m     20\u001b[0m \u001b[0mconn\u001b[0m\u001b[1;33m.\u001b[0m\u001b[0mcommit\u001b[0m\u001b[1;33m(\u001b[0m\u001b[1;33m)\u001b[0m\u001b[1;33m\u001b[0m\u001b[1;33m\u001b[0m\u001b[0m\n\u001b[0;32m     21\u001b[0m \u001b[0mcursor\u001b[0m\u001b[1;33m.\u001b[0m\u001b[0mclose\u001b[0m\u001b[1;33m(\u001b[0m\u001b[1;33m)\u001b[0m\u001b[1;33m\u001b[0m\u001b[1;33m\u001b[0m\u001b[0m\n",
      "\u001b[1;31mTypeError\u001b[0m: not all arguments converted during string formatting"
     ]
    }
   ],
   "source": [
    "import psycopg2\n",
    "import pandas as pd\n",
    "\n",
    "conn = psycopg2.connect(\n",
    "    host=\"localhost\",\n",
    "    port=\"5432\",\n",
    "    database=\"comp_sci_dpt\",\n",
    "    user=\"postgres\",\n",
    "    password=\"csc101\"\n",
    ")\n",
    "cursor = conn.cursor()\n",
    "df = pd.read_csv(\"csc102_class_list_II.csv\")\n",
    "columns = df.columns.tolist()\n",
    "insert = '''\n",
    "    INSERT INTO csc102_class_list ({','.join(columns)})\n",
    "    VALUES (%s, %s, %s);\n",
    "'''\n",
    "values = [tuple(row) for row in df.values]\n",
    "cursor.executemany(insert, values)\n",
    "conn.commit()      \n",
    "cursor.close()\n",
    "conn.close()"
   ]
  },
  {
   "cell_type": "code",
   "execution_count": null,
   "metadata": {},
   "outputs": [],
   "source": []
  }
 ],
 "metadata": {
  "kernelspec": {
   "display_name": "Python 3",
   "language": "python",
   "name": "python3"
  },
  "language_info": {
   "codemirror_mode": {
    "name": "ipython",
    "version": 3
   },
   "file_extension": ".py",
   "mimetype": "text/x-python",
   "name": "python",
   "nbconvert_exporter": "python",
   "pygments_lexer": "ipython3",
   "version": "3.8.5"
  }
 },
 "nbformat": 4,
 "nbformat_minor": 4
}
