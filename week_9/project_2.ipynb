{
 "cells": [
  {
   "cell_type": "code",
   "execution_count": 4,
   "metadata": {},
   "outputs": [
    {
     "name": "stdout",
     "output_type": "stream",
     "text": [
      "PROGRAM TO CALCULATE THE AREA OF SHAPES\n",
      "Choose a shape: cube\n",
      "What is your length: 12\n",
      "The area of the cube is: 864\n"
     ]
    }
   ],
   "source": [
    "class formulae():\n",
    "    def trapezium(self,height,base1,base2):\n",
    "                self.height = height\n",
    "                self.base1 = base1\n",
    "                self.base2 = base2\n",
    "                area = (self.height / 2) * (self.base1 +  self.base2)\n",
    "                print(f\"The area of the trapezium is: {area}\")\n",
    "    def rhombus(self,diagonal1,diagonal2):\n",
    "                self.diagonal1 = diagonal1\n",
    "                self.diagonal2 = diagonal2\n",
    "                area = 0.5 * self.diagonal1 * self.diagonal2\n",
    "                print(f\"The area of the rhombus is: {area}\")\n",
    "    def parallelogram(self,base,altitude):\n",
    "                      self.base = base \n",
    "                      self.altitude = altitude\n",
    "                      area = self.base * self.altitude\n",
    "                      print(f\"The area of the parallelogram is: {area}\")\n",
    "    def cube(self,length):\n",
    "                            self.length = length\n",
    "                            area = 6 * (length ** 2)\n",
    "                            print(f\"The area of the cube is: {area}\")\n",
    "    def cylinder(self, radius, height):\n",
    "                                  self.radius = radius\n",
    "                                  self.height = height\n",
    "                                  pie = float(22 / 7)\n",
    "                                  area = pie * (self.radius ** 2) * height\n",
    "                                  print(f\"The area of the cylinder is: {area}\")\n",
    "                  \n",
    "print(\"PROGRAM TO CALCULATE THE AREA OF SHAPES\")\n",
    "inp = formulae()\n",
    "decision = str(input(\"Choose a shape: \")).lower()\n",
    "if decision == \"trapezium\":\n",
    "                   height = int(input(\"What is your height: \"))\n",
    "                   base1 = int(input(\"What is your first base: \"))                          \n",
    "                   base2 = int(input(\"What is your second base: \"))\n",
    "                   inp.trapezium(height,base1,base2)\n",
    "elif decision == \"rhombus\":\n",
    "                diagonal1 = int(input(\"What is your first diagonal: \"))                        \n",
    "                diagonal2 = int(input(\"What is your second diagonal: \"))                         \n",
    "                inp.rhombus(diagonal1,diagonal2)                        \n",
    "elif decision == \"parallelogram\":\n",
    "                base = int(input(\"What is your base: \"))                        \n",
    "                altitude = int(input(\"What is your altitude: \"))                         \n",
    "                inp.parallelogram(base,altitude)                                 \n",
    "elif decision == \"cube\":\n",
    "                length = int(input(\"What is your length: \"))                                                 \n",
    "                inp.cube(length)\n",
    "elif decision == \"cylinder\":\n",
    "                radius = int(input(\"What is your radius: \"))                        \n",
    "                height = int(input(\"What is your height: \"))                         \n",
    "                inp.cylinder(radius,height)\n",
    "else:\n",
    "      print(\"Invalid Input\")                                  "
   ]
  },
  {
   "cell_type": "code",
   "execution_count": null,
   "metadata": {},
   "outputs": [],
   "source": []
  }
 ],
 "metadata": {
  "kernelspec": {
   "display_name": "Python 3",
   "language": "python",
   "name": "python3"
  },
  "language_info": {
   "codemirror_mode": {
    "name": "ipython",
    "version": 3
   },
   "file_extension": ".py",
   "mimetype": "text/x-python",
   "name": "python",
   "nbconvert_exporter": "python",
   "pygments_lexer": "ipython3",
   "version": "3.8.5"
  }
 },
 "nbformat": 4,
 "nbformat_minor": 4
}
