{
 "cells": [
  {
   "cell_type": "code",
   "execution_count": 7,
   "metadata": {},
   "outputs": [
    {
     "name": "stdout",
     "output_type": "stream",
     "text": [
      "PROGRAM FOR ONLINE ORANGE SHOPPING\n",
      "The total number of oranges we have is 50 \n",
      "The price of one orange is N100 \n",
      "How many oranges do you want to buy: 49\n",
      "Your total is: 4900\n",
      "Thank you for your patronage\n"
     ]
    }
   ],
   "source": [
    "class orange():\n",
    "    print(\"PROGRAM FOR ONLINE ORANGE SHOPPING\")\n",
    "    print(\"The total number of oranges we have is 50 \")\n",
    "    print(\"The price of one orange is N100 \")\n",
    "  \n",
    "    def __init__(self,number,cost):\n",
    "        self.number = number\n",
    "        self.cost = cost\n",
    "    \n",
    "    def quantity(self):\n",
    "        total = number * cost\n",
    "        print(f\"Your total is: {total}\")\n",
    "        print(\"Thank you for your patronage\")\n",
    "\n",
    "number = int(input(\"How many oranges do you want to buy: \"))\n",
    "cost = 100\n",
    "inp = orange(number, cost)\n",
    "if number <= 50:\n",
    "    inp.quantity()\n",
    "elif number > 50:\n",
    "    print(\"Sorry we currently do not have this amount in stock\")\n",
    "    print(\"Select a lower amount or try again later\")\n",
    "else:\n",
    "    print(\"Invalid input\")\n",
    "    \n"
   ]
  },
  {
   "cell_type": "code",
   "execution_count": null,
   "metadata": {},
   "outputs": [],
   "source": []
  }
 ],
 "metadata": {
  "kernelspec": {
   "display_name": "Python 3",
   "language": "python",
   "name": "python3"
  },
  "language_info": {
   "codemirror_mode": {
    "name": "ipython",
    "version": 3
   },
   "file_extension": ".py",
   "mimetype": "text/x-python",
   "name": "python",
   "nbconvert_exporter": "python",
   "pygments_lexer": "ipython3",
   "version": "3.8.5"
  }
 },
 "nbformat": 4,
 "nbformat_minor": 4
}
