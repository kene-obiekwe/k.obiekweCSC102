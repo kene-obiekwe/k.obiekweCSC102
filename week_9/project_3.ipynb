{
 "cells": [
  {
   "cell_type": "code",
   "execution_count": 16,
   "metadata": {},
   "outputs": [
    {
     "name": "stdout",
     "output_type": "stream",
     "text": [
      "PROGRAM THAT SAVES CATEGORIES OF DRINKS TO A CSV FILE\n",
      "File was saved successfully\n"
     ]
    }
   ],
   "source": [
    "import pandas as pd\n",
    "\n",
    "class brewery():\n",
    "    def save(self,records):\n",
    "        self.records = records\n",
    "        print(\"File was saved successfully\")\n",
    "        \n",
    "print(\"PROGRAM THAT SAVES CATEGORIES OF DRINKS TO A CSV FILE\")\n",
    "records = {'Lager': [\"33 Export\", \"Desperados\", \"Goldberg\", \"Gulder\", \"Heineken\", \"Star\"],\n",
    "                        'Stout': [\"Legend\", \"Turbo King\", \"Williams\", \"\", \"\", \"\"],\n",
    "                        'Non-Alcoholic': [\"Maltina\", \"Amstel Malta\", \"Malta Gold\", \"Fayrouz\", \"\", \"\"]}\n",
    "df = pd.DataFrame(records)\n",
    "df.to_csv('records.csv')\n",
    "        \n",
    "inp = brewery()\n",
    "inp.save(records)"
   ]
  },
  {
   "cell_type": "code",
   "execution_count": null,
   "metadata": {},
   "outputs": [],
   "source": []
  }
 ],
 "metadata": {
  "kernelspec": {
   "display_name": "Python 3",
   "language": "python",
   "name": "python3"
  },
  "language_info": {
   "codemirror_mode": {
    "name": "ipython",
    "version": 3
   },
   "file_extension": ".py",
   "mimetype": "text/x-python",
   "name": "python",
   "nbconvert_exporter": "python",
   "pygments_lexer": "ipython3",
   "version": "3.8.5"
  }
 },
 "nbformat": 4,
 "nbformat_minor": 4
}
