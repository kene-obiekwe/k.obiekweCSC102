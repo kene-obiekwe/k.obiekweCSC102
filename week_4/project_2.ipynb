{
 "cells": [
  {
   "cell_type": "code",
   "execution_count": null,
   "id": "8c02177e",
   "metadata": {},
   "outputs": [],
   "source": [
    "xp = int(input(\"Enter your years of experience: \"))\n",
    "age = int(input(\"Enter your age: \"))\n",
    "if xp >= 25 and age >= 55:\n",
    "        print(\"Your annual tax revenue(ATR) is N5,600,000\")\n",
    "elif xp >= 20 and age >= 45:\n",
    "        print(\"Your annual tax revenue(ATR) is N4,480,000\")\n",
    "elif xp >= 10 and age >= 35:\n",
    "        print(\"Your annual tax revenue(ATR) is N1,500,000\")\n",
    "elif xp < 10 and age < 35:\n",
    "        print(\"Your annual tax revenue(ATR) is N550,000\")\n",
    "else:\n",
    "        print(\"Invalid input \")\n",
    "       "
   ]
  },
  {
   "cell_type": "code",
   "execution_count": null,
   "id": "31ccf1b4",
   "metadata": {},
   "outputs": [],
   "source": []
  },
  {
   "cell_type": "code",
   "execution_count": null,
   "id": "014fec74",
   "metadata": {},
   "outputs": [],
   "source": []
  }
 ],
 "metadata": {
  "kernelspec": {
   "display_name": "Python 3 (ipykernel)",
   "language": "python",
   "name": "python3"
  },
  "language_info": {
   "codemirror_mode": {
    "name": "ipython",
    "version": 3
   },
   "file_extension": ".py",
   "mimetype": "text/x-python",
   "name": "python",
   "nbconvert_exporter": "python",
   "pygments_lexer": "ipython3",
   "version": "3.10.9"
  }
 },
 "nbformat": 4,
 "nbformat_minor": 5
}
