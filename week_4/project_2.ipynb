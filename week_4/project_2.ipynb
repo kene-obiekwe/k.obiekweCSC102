{
 "cells": [
  {
   "cell_type": "code",
   "execution_count": 7,
   "id": "70ed19e7",
   "metadata": {},
   "outputs": [
    {
     "name": "stdout",
     "output_type": "stream",
     "text": [
      "FinTechs Program to check the ATR of various staff.\n",
      "Enter your years of experience: 10\n",
      "Enter your age: 30\n",
      "Invalid input\n",
      "Would you like to try again? \n",
      "1. Yes OR 2. NO? 1\n",
      "Enter your years of experience: 25\n",
      "Enter your age: 45\n",
      "Your annual tax revenue(ATR) is N4,480,000.\n"
     ]
    }
   ],
   "source": [
    "def staff():\n",
    "    xp = int(input(\"Enter your years of experience: \"))\n",
    "    age = int(input(\"Enter your age: \"))\n",
    "    if xp > 25 and age >= 55:\n",
    "        print(\"Your annual tax revenue(ATR) is N5,600,000.\")\n",
    "    elif xp > 20 and age >= 45:\n",
    "         print(\"Your annual tax revenue(ATR) is N4,480,000.\")\n",
    "    elif xp > 10 and age >= 35:\n",
    "         print(\"Your annual tax revenue(ATR) is N1,500,000.\")\n",
    "    elif xp < 10 and age < 35:\n",
    "         print(\"Your annual tax revenue(ATR) is N550,000.\")\n",
    "    else:\n",
    "        print(\"Invalid input\")\n",
    "        print(\"Would you like to try again? \")\n",
    "        decision = int(input(\"1. Yes OR 2. NO? \"))\n",
    "        if decision == 1:\n",
    "            staff()\n",
    "        elif decision == 2:\n",
    "            print(\"Program timeout\")\n",
    "print(\"FinTechs Program to check the ATR of various staff.\")\n",
    "staff()\n",
    "  \n",
    "  \n",
    "  \n",
    "        "
   ]
  },
  {
   "cell_type": "code",
   "execution_count": null,
   "id": "d8c8f3e5",
   "metadata": {},
   "outputs": [],
   "source": []
  }
 ],
 "metadata": {
  "kernelspec": {
   "display_name": "Python 3 (ipykernel)",
   "language": "python",
   "name": "python3"
  },
  "language_info": {
   "codemirror_mode": {
    "name": "ipython",
    "version": 3
   },
   "file_extension": ".py",
   "mimetype": "text/x-python",
   "name": "python",
   "nbconvert_exporter": "python",
   "pygments_lexer": "ipython3",
   "version": "3.10.9"
  }
 },
 "nbformat": 4,
 "nbformat_minor": 5
}
