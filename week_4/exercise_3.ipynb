{
 "cells": [
  {
   "cell_type": "code",
   "execution_count": 4,
   "metadata": {},
   "outputs": [
    {
     "name": "stdout",
     "output_type": "stream",
     "text": [
      "Welcome to the COUPE DE ESCRIVA 2023: FOOTBALL PICKS \n",
      "\n",
      "Madiba: Chubby Obiora-Okafor\n",
      "Blue Jays: Christopher Uweh\n",
      "Cirok: Alexander\n",
      "TSG Walkers: Ikechukwu Onyebigwa\n",
      "\n",
      "\n",
      "Madiba: Chubby Obiora-Okafor\n",
      "Madiba: Oladimeji Abaniwonda/Jeffrey Awagu\n",
      "Madiba: Timileyin Pearse/Izuako Jeremy\n",
      "Madiba: Ayomide Ojituku\n"
     ]
    }
   ],
   "source": [
    "# COUPE DE ESCRIVA 2023: FOOTBALL PICKS\n",
    "\n",
    "print(\"Welcome to the COUPE DE ESCRIVA 2023: FOOTBALL PICKS \\n\")\n",
    "\n",
    "captain = {'Madiba:': 'Chubby Obiora-Okafor', 'Blue Jays:': 'Christopher Uweh',\n",
    "          'Cirok:': 'Alexander', 'TSG Walkers:': 'Ikechukwu Onyebigwa'}\n",
    "\n",
    "goalkeepers = {'Madiba:': 'Chubby Obiora-Okafor',\n",
    "               'Blue-Jays:': 'Oladimeji Abaniwonda/Jeffrey Awagu',\n",
    "          'Cirok:': 'Timileyin Pearse/Izuako Jeremy',\n",
    "               'TSG Walkers:': 'Ayomide Ojituku'}\n",
    "for pick in captain:\n",
    "    print(pick, captain[pick])\n",
    "    \n",
    "print(\"\\n\")\n",
    "\n",
    "for pick in goalkeepers:\n",
    "    print(picks, goalkeepers[pick])\n"
   ]
  },
  {
   "cell_type": "code",
   "execution_count": null,
   "metadata": {},
   "outputs": [],
   "source": []
  }
 ],
 "metadata": {
  "kernelspec": {
   "display_name": "Python 3",
   "language": "python",
   "name": "python3"
  },
  "language_info": {
   "codemirror_mode": {
    "name": "ipython",
    "version": 3
   },
   "file_extension": ".py",
   "mimetype": "text/x-python",
   "name": "python",
   "nbconvert_exporter": "python",
   "pygments_lexer": "ipython3",
   "version": "3.8.5"
  }
 },
 "nbformat": 4,
 "nbformat_minor": 4
}
