{
 "cells": [
  {
   "cell_type": "code",
   "execution_count": 4,
   "id": "a35f08d6",
   "metadata": {},
   "outputs": [
    {
     "name": "stdout",
     "output_type": "stream",
     "text": [
      "Enter your principal:1000\n",
      "Enter your rate:5\n",
      "Enter the time range:5\n",
      "The simple interest is: 1000.0003125000001\n"
     ]
    }
   ],
   "source": [
    "# simple interest\n",
    "principal = int(input(\"Enter your principal:\"))\n",
    "rate = int(input(\"Enter your rate:\"))\n",
    "time = int(input(\"Enter the time range:\"))\n",
    "Amount = principal * (1 + (rate/100) ** time)\n",
    "print(\"The simple interest is:\", str(Amount))"
   ]
  },
  {
   "cell_type": "code",
   "execution_count": 5,
   "id": "fb21abd4",
   "metadata": {},
   "outputs": [
    {
     "name": "stdout",
     "output_type": "stream",
     "text": [
      "Enter your principal:1000\n",
      "Enter your rate:5\n",
      "Enter the number of years:5\n",
      "Enter the time range:5\n",
      "The compound interest is: 5255.050250500001\n"
     ]
    }
   ],
   "source": [
    "# compound interest\n",
    "principal = int(input(\"Enter your principal:\"))\n",
    "rate = int(input(\"Enter your rate:\"))\n",
    "n_o_y = int(input(\"Enter the number of years:\"))\n",
    "time = int(input(\"Enter the time range:\"))\n",
    "R = rate/100\n",
    "Q = (1 + R/n_o_y) ** n_o_y * time\n",
    "Amount = principal * Q\n",
    "print(\"The compound interest is:\", str(Amount))\n"
   ]
  },
  {
   "cell_type": "code",
   "execution_count": 6,
   "id": "2ccdf118",
   "metadata": {},
   "outputs": [
    {
     "name": "stdout",
     "output_type": "stream",
     "text": [
      "Enter your payment:1000\n",
      "Enter your rate:5\n",
      "Enter the number of years:5\n",
      "Enter the time range:5\n",
      "The annuity plan is: -2717.568004982766\n"
     ]
    }
   ],
   "source": [
    "# annuity plan\n",
    "payment = int(input(\"Enter your payment:\"))\n",
    "rate = int(input(\"Enter your rate:\"))\n",
    "n_o_y = int(input(\"Enter the number of years:\"))\n",
    "time = int(input(\"Enter the time range:\"))\n",
    "R = rate/ 100\n",
    "Q = ((1 + R/n_o_y) ** (n_o_y * time) - 1/ R/n_o_y )\n",
    "Amount = payment * Q\n",
    "print(\"The annuity plan is:\", str(Amount))\n",
    "\n"
   ]
  },
  {
   "cell_type": "code",
   "execution_count": null,
   "id": "d3f9315d",
   "metadata": {},
   "outputs": [],
   "source": []
  }
 ],
 "metadata": {
  "kernelspec": {
   "display_name": "Python 3 (ipykernel)",
   "language": "python",
   "name": "python3"
  },
  "language_info": {
   "codemirror_mode": {
    "name": "ipython",
    "version": 3
   },
   "file_extension": ".py",
   "mimetype": "text/x-python",
   "name": "python",
   "nbconvert_exporter": "python",
   "pygments_lexer": "ipython3",
   "version": "3.10.9"
  }
 },
 "nbformat": 4,
 "nbformat_minor": 5
}
