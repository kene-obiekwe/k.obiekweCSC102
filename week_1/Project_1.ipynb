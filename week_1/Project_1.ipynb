{
 "cells": [
  {
   "cell_type": "code",
   "execution_count": 2,
   "metadata": {},
   "outputs": [
    {
     "name": "stdout",
     "output_type": "stream",
     "text": [
      "Input a principal:1000\n",
      "Input a rate:5\n",
      "Input a time range:5\n",
      "The simple interest is: 1250.0\n"
     ]
    }
   ],
   "source": [
    "# Simple interest\n",
    "principal = int(input(\"Input a principal:\"))\n",
    "rate = int(input(\"Input a rate:\"))\n",
    "time = int(input(\"Input a time range:\"))\n",
    "\n",
    "q = 1 + rate/100 * time\n",
    "\n",
    "amount = principal * q\n",
    "print(\"The simple interest is:\", amount)\n"
   ]
  },
  {
   "cell_type": "code",
   "execution_count": 3,
   "metadata": {},
   "outputs": [
    {
     "name": "stdout",
     "output_type": "stream",
     "text": [
      "Input a principal:1000\n",
      "Input a rate:5\n",
      "Input the number of years:5\n",
      "Input a time range:5\n",
      "The compound interest is: 33554432000.0\n"
     ]
    }
   ],
   "source": [
    "# Compound interest\n",
    "principal = int(input(\"Input a principal:\"))\n",
    "rate = int(input(\"Input a rate:\"))\n",
    "n_o_y = int(input(\"Input the number of years:\"))\n",
    "time = int(input(\"Input a time range:\"))\n",
    "\n",
    "amount = principal * (1 + rate/n_o_y) ** (n_o_y * time)\n",
    "print(\"The compound interest is:\", amount)\n",
    "\n",
    "\n"
   ]
  },
  {
   "cell_type": "code",
   "execution_count": 4,
   "metadata": {},
   "outputs": [
    {
     "name": "stdout",
     "output_type": "stream",
     "text": [
      "Input your payment:1000\n",
      "Input a rate:5\n",
      "Input the number of years:5\n",
      "Input a time range:5\n",
      "The Annuity plan is: 1342177240.0\n"
     ]
    }
   ],
   "source": [
    "# Annuity plan\n",
    "payment = int(input(\"Input your payment:\"))\n",
    "rate = int(input(\"Input a rate:\"))\n",
    "n_o_y = int(input(\"Input the number of years:\"))\n",
    "time = int(input(\"Input a time range:\"))\n",
    "\n",
    "amount = payment * ((1 + rate/n_o_y) ** (n_o_y * time) - 1)/ rate/n_o_y\n",
    "print(\"The Annuity plan is:\", amount)\n",
    "\n",
    "\n",
    "\n",
    "\n"
   ]
  },
  {
   "cell_type": "code",
   "execution_count": null,
   "metadata": {},
   "outputs": [],
   "source": []
  }
 ],
 "metadata": {
  "kernelspec": {
   "display_name": "Python 3",
   "language": "python",
   "name": "python3"
  },
  "language_info": {
   "codemirror_mode": {
    "name": "ipython",
    "version": 3
   },
   "file_extension": ".py",
   "mimetype": "text/x-python",
   "name": "python",
   "nbconvert_exporter": "python",
   "pygments_lexer": "ipython3",
   "version": "3.8.5"
  }
 },
 "nbformat": 4,
 "nbformat_minor": 4
}
