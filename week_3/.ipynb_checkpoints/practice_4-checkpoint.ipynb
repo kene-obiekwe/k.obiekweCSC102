{
 "cells": [
  {
   "cell_type": "code",
   "execution_count": 1,
   "metadata": {},
   "outputs": [
    {
     "name": "stdout",
     "output_type": "stream",
     "text": [
      "('Ekiti', 750, 'Ogomosho', 250, 'Akure', 500)\n",
      "500\n",
      "('Ogomosho', 250)\n",
      "(250, 'Akure', 500)\n",
      "('Abeokuta', 300, 'Ogbomosho', 'Abeokuta', 300, 'Ogbomosho')\n",
      "('Ekiti', 750, 'Ogomosho', 250, 'Akure', 500, 'Abeokuta', 300, 'Ogbomosho')\n"
     ]
    }
   ],
   "source": [
    "tuple = (\"Ekiti\", 750, 'Ogomosho', 250, \"Akure\", 500, )\n",
    "s_tuple = (\"Abeokuta\", 300, \"Ogbomosho\")\n",
    "\n",
    "# Prints the complete tuple\n",
    "print(tuple)\n",
    "\n",
    "# Prints last element of the tuple \n",
    "print(tuple[-1])\n",
    "\n",
    "# Print elements of the tuple starting from 2nd till 3rd\n",
    "print(tuple[2:4])\n",
    "\n",
    "# Print elements of the tuple starting from 3rd element\n",
    "print(tuple[3:])\n",
    "\n",
    "# Prints the contents of the tuple twice\n",
    "print(s_tuple * 2)\n",
    "\n",
    "# Prints concatenated tuples \n",
    "print(tuple + s_tuple)"
   ]
  },
  {
   "cell_type": "code",
   "execution_count": null,
   "metadata": {},
   "outputs": [],
   "source": []
  }
 ],
 "metadata": {
  "kernelspec": {
   "display_name": "Python 3",
   "language": "python",
   "name": "python3"
  },
  "language_info": {
   "codemirror_mode": {
    "name": "ipython",
    "version": 3
   },
   "file_extension": ".py",
   "mimetype": "text/x-python",
   "name": "python",
   "nbconvert_exporter": "python",
   "pygments_lexer": "ipython3",
   "version": "3.8.5"
  }
 },
 "nbformat": 4,
 "nbformat_minor": 4
}
